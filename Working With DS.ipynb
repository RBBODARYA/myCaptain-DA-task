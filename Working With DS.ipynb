{
 "cells": [
  {
   "cell_type": "code",
   "execution_count": 1,
   "id": "a94b6384",
   "metadata": {},
   "outputs": [],
   "source": [
    "import pandas as pd\n",
    "import numpy as np"
   ]
  },
  {
   "cell_type": "markdown",
   "id": "52f621da",
   "metadata": {},
   "source": [
    "## Defining two set of variables"
   ]
  },
  {
   "cell_type": "code",
   "execution_count": 23,
   "id": "9d53a907",
   "metadata": {},
   "outputs": [],
   "source": [
    "E= {0, 2, 4, 6, 8}\n",
    "N= {1, 2, 3, 4, 5}  "
   ]
  },
  {
   "cell_type": "markdown",
   "id": "056fccc6",
   "metadata": {},
   "source": [
    "## Performing Various Operations"
   ]
  },
  {
   "cell_type": "code",
   "execution_count": 14,
   "id": "9758ff66",
   "metadata": {},
   "outputs": [
    {
     "name": "stdout",
     "output_type": "stream",
     "text": [
      "Union of E and N is {0, 1, 2, 3, 4, 5, 6, 8}\n"
     ]
    }
   ],
   "source": [
    "# Union of E and N\n",
    "\n",
    "Union_set= E.union(N)\n",
    "print(f\"Union of E and N is {Union_set}\")"
   ]
  },
  {
   "cell_type": "code",
   "execution_count": 17,
   "id": "08749a2b",
   "metadata": {},
   "outputs": [
    {
     "name": "stdout",
     "output_type": "stream",
     "text": [
      "Intersection of E and N is {2, 4}\n"
     ]
    }
   ],
   "source": [
    "# Intersection of E and N\n",
    "\n",
    "Intersection_set= E.intersection(N)\n",
    "print(f\"Intersection of E and N is {Intersection_set}\")"
   ]
  },
  {
   "cell_type": "code",
   "execution_count": 24,
   "id": "390aee5a",
   "metadata": {},
   "outputs": [
    {
     "name": "stdout",
     "output_type": "stream",
     "text": [
      "Difference of E and N is {0, 8, 6}\n"
     ]
    }
   ],
   "source": [
    "# Difference of E and N\n",
    "\n",
    "Difference_set= E.difference(N)\n",
    "print(f\"Difference of E and N is {Difference_set}\")"
   ]
  },
  {
   "cell_type": "code",
   "execution_count": 25,
   "id": "4df0da44",
   "metadata": {},
   "outputs": [
    {
     "name": "stdout",
     "output_type": "stream",
     "text": [
      "Symmetric difference of E and N is {0, 1, 3, 5, 6, 8}\n"
     ]
    }
   ],
   "source": [
    "# Symmetric Difference of E and N\n",
    "\n",
    "Sym_Difference_set= E.symmetric_difference(N)\n",
    "print(f\"Symmetric difference of E and N is {Sym_Difference_set}\")"
   ]
  }
 ],
 "metadata": {
  "kernelspec": {
   "display_name": "Python 3 (ipykernel)",
   "language": "python",
   "name": "python3"
  },
  "language_info": {
   "codemirror_mode": {
    "name": "ipython",
    "version": 3
   },
   "file_extension": ".py",
   "mimetype": "text/x-python",
   "name": "python",
   "nbconvert_exporter": "python",
   "pygments_lexer": "ipython3",
   "version": "3.11.4"
  }
 },
 "nbformat": 4,
 "nbformat_minor": 5
}
